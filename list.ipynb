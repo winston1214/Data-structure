{
 "cells": [
  {
   "cell_type": "markdown",
   "metadata": {},
   "source": [
    "# class로 구현한 리스트"
   ]
  },
  {
   "cell_type": "code",
   "execution_count": null,
   "metadata": {},
   "outputs": [],
   "source": [
    "class ArrayList:\n",
    "    def __init__(self):\n",
    "        self.items=[]\n",
    "    def insert_(self,pos,elem): # 기존의 insert함수를 훼손시키지 않기 위해\n",
    "        self.items.insert(pos,elem)\n",
    "    def delete(self,pos):\n",
    "        return self.items.pop(pos)\n",
    "    def isEmpty(self):\n",
    "        return self.size()==0\n",
    "    def getEntry(self,pos):\n",
    "        return self.items[pos]\n",
    "    def size(self):\n",
    "        return len(self.items)\n",
    "    def clear(self):\n",
    "        self.items=[]\n",
    "    def find(self,pos): # index를 통해 아이템 찾기->따라서 위치 입력\n",
    "        return self.items.index(pos)\n",
    "    def replace_(self,pos,elem):\n",
    "        self.items[pos] = elem\n",
    "    def sort_(self):\n",
    "        self.items.sort()\n",
    "    def merge(self,lst):\n",
    "        self.items.extend(lst)\n",
    "    def display(self,msg='ArrayList'):\n",
    "        print(msg,self.size(),self.items)"
   ]
  },
  {
   "cell_type": "code",
   "execution_count": null,
   "metadata": {},
   "outputs": [],
   "source": [
    "s=ArrayList()\n",
    "s.display()\n",
    "s.insert_(0,10);s.insert_(0,20);s.insert_(1,30);s.insert_(s.size(),40);s.insert_(2,50);\n",
    "s.display(\"삽입 후\")\n",
    "s.sort_()\n",
    "s.display(\"정렬 후\")\n",
    "s.replace_(2,90)\n",
    "s.display(\"교체 후\")\n",
    "s.delete(2);s.delete(s.size()-1);s.delete(0);\n",
    "s.display(\"삭제 후\")\n",
    "ls=[1,2,3]\n",
    "s.merge(ls)\n",
    "s.display(\"병합 후\")\n",
    "s.clear()\n",
    "s.display(\"clear 후\")"
   ]
  },
  {
   "cell_type": "code",
   "execution_count": null,
   "metadata": {},
   "outputs": [],
   "source": [
    "def LineEditor():\n",
    "    ls=ArrayList()\n",
    "    while True:\n",
    "        command = input(\"i-입력,d-삭제,r-변경,p-출력,l-파일 읽기, s-저장, q-종료 =>\")\n",
    "        if command == 'i':\n",
    "            pos= int(input(\"입력행 번호: \"))\n",
    "            str_=input(\"입력행 내용: \")\n",
    "            ls.insert_(pos,str_)\n",
    "        elif command == 'd':\n",
    "            pos = int(input(\"삭제 행 번호: \"))\n",
    "            ls.delete(pos)\n",
    "        elif command == 'r':\n",
    "            pos = int(input(\"변경 행 번호: \"))\n",
    "            str_=input(\"변경 행 내용\")\n",
    "            ls.replace_(pos,str_)\n",
    "        elif command =='q': return\n",
    "        elif command == 'p':\n",
    "            print('LineEditor')\n",
    "            for line in range(ls.size()):\n",
    "                print('[%2d]'%line,end=' ')\n",
    "                print(ls.getEntry(line))\n",
    "            print()\n",
    "        elif command == 'l':\n",
    "            filename = 'list_test.txt'\n",
    "            infile=open(filename,'r')\n",
    "            lines = infile.readlines()\n",
    "            for line in lines:\n",
    "                ls.insert_(ls.size(),line.rstrip('\\n'))\n",
    "            infile.close()\n",
    "        elif command =='s':\n",
    "            outfile = open('list_test.txt','w')\n",
    "            for i in range(ls.size()):\n",
    "                outfile.write(ls.getEntry(i)+'\\n')\n",
    "            outfile.close()\n",
    "LineEditor()\n",
    "            "
   ]
  },
  {
   "cell_type": "markdown",
   "metadata": {},
   "source": [
    "# 다항식 구현(리스트를 이용)"
   ]
  },
  {
   "cell_type": "code",
   "execution_count": 63,
   "metadata": {},
   "outputs": [],
   "source": [
    "class Polynomial:\n",
    "    def __init__(self):\n",
    "        self.ls=[]\n",
    "    def read_poly(self):\n",
    "        self.ls=[]\n",
    "        degree = int(input('다항식의 최고 차수를 입력하시오: '))\n",
    "        for i in range(degree+1):\n",
    "            coef = int(input('x^{}의 계수'.format(i)))\n",
    "            self.ls.append(coef)\n",
    "        return self.ls\n",
    "    def add(self,ls,ls2):\n",
    "        while len(ls) != len(ls2):\n",
    "            if len(ls)>len(ls2):\n",
    "                ls2.append(0)\n",
    "            elif len(ls)<len(ls2):\n",
    "                ls.append(0)\n",
    "        tmp = [x+y for x,y in zip(ls,ls2)]\n",
    "        return tmp\n",
    "    def display(self,ls,msg='Poly'):\n",
    "        print(msg)\n",
    "        \n",
    "        for i in range(len(ls)-1,-1,-1):\n",
    "            print('{}x^{}'.format(ls[i],i),end='+')\n",
    "            if i==0:\n",
    "                print(ls[i])\n",
    "    def evaluate(self,ls,num):\n",
    "        x=0\n",
    "        for i in range(len(ls)):\n",
    "            x+=ls[i]*(num**i)\n",
    "        return x\n",
    "    "
   ]
  },
  {
   "cell_type": "code",
   "execution_count": 65,
   "metadata": {},
   "outputs": [
    {
     "name": "stdout",
     "output_type": "stream",
     "text": [
      "다항식의 최고 차수를 입력하시오: 2\n",
      "x^0의 계수0\n",
      "x^1의 계수1\n",
      "x^2의 계수2\n",
      "다항식의 최고 차수를 입력하시오: 1\n",
      "x^0의 계수0\n",
      "x^1의 계수1\n",
      "Poly\n",
      "2x^2+2x^1+0x^0+0\n"
     ]
    },
    {
     "data": {
      "text/plain": [
       "60"
      ]
     },
     "execution_count": 65,
     "metadata": {},
     "output_type": "execute_result"
    }
   ],
   "source": [
    "x=Polynomial()\n",
    "a=x.read_poly()\n",
    "\n",
    "b=x.read_poly()\n",
    "\n",
    "c=x.add(a,b)\n",
    "\n",
    "x.display(c)\n",
    "x.evaluate(c,5)"
   ]
  },
  {
   "cell_type": "code",
   "execution_count": null,
   "metadata": {},
   "outputs": [],
   "source": []
  }
 ],
 "metadata": {
  "kernelspec": {
   "display_name": "Python 3",
   "language": "python",
   "name": "python3"
  },
  "language_info": {
   "codemirror_mode": {
    "name": "ipython",
    "version": 3
   },
   "file_extension": ".py",
   "mimetype": "text/x-python",
   "name": "python",
   "nbconvert_exporter": "python",
   "pygments_lexer": "ipython3",
   "version": "3.7.1"
  }
 },
 "nbformat": 4,
 "nbformat_minor": 4
}
