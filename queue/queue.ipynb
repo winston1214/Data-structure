{
 "cells": [
  {
   "cell_type": "markdown",
   "metadata": {},
   "source": [
    " **Queue**는 대표적인 *FIFO(First In First Out)* 알고리즘이다. 즉 선입선출으로 먼저 들어온 값이 먼저 나가는 구조이다. LIFO구조인 stack과 비교된다. \n",
    " 구조상으로 스택과 다른 점은 삽입과 삭제 연산의 위치가 다르다는 것이다. 스택은 맨 위에부터 꺼내 쓰고 꺼내서 빼는 구조로 삽입과 삭제 연산의 위치가 같지만 Queue는 앞뒤에 문이 있다고 생각하면 된다. 따라서 앞의 문은 front, 뒤에 문은 rear 이다. 삽입이 일어나는 곳은 rear, 삭제가 일어나는 곳은 front 이다.\n",
    "\n",
    "기본적으로 큐의 종류는 **선형큐,원형큐,덱큐,우선순위 큐**가 있다. \n",
    "\n",
    "이 중 가장 기본적으로 선형큐의 구현을 보여줘야하지만 선형큐는 다른 큐에 비해 비효율적인 면이 있다. 왜냐하면 삭제연산에서 리스트의 모든 항목들을 앞으로 땡겨야하므로 시간복잡도가 O(n)이 된다. O(n)은 언뜻보면 크게 안커보이지만 다른 큐들은 O(1)의 시간복잡도를 가지므로 상대적으로 비효율적이기 때문에 구현을 하지 않겠다.\n",
    "\n",
    "따라서 시간복잡도의 효율성을 높이기 위해 리스트를 원형이라 생각하고 구현한다. 이 큐가 바로 **원형큐**이다. \n",
    "\n",
    "원형큐에서 rear는 가장 최근에 삽입된 항목의 위치를 front에는 가장 최근에 삭제된 항목의 위치를 저장한다. 처음 front = rear =0 으로 초기화시키고 삽입일 때는 rear+1 삭제일때는 front+1을 한다. "
   ]
  },
  {
   "cell_type": "markdown",
   "metadata": {},
   "source": [
    "이 때 주의할 것은 이 큐는 단순 리스트가 아니라 원형으로 생각한다는 점이다. 원형으로 생각하지 않고 점점 올려준다면 선형큐와 다를 것이 없다. 원형으로 생각하기 위해서 MAX_QSIZE로 나눠줘야한다. 그리고 그 나눠준 값의 나머지를 반환한다. 그러면 한바퀴 돌면 0이 된다. \n",
    "\n",
    "따라서 **(front+1) % MAX_QSIZE , (rear+1) % MAX_QSIZE**가 된다."
   ]
  },
  {
   "cell_type": "markdown",
   "metadata": {},
   "source": [
    "# 원형 큐"
   ]
  },
  {
   "cell_type": "code",
   "execution_count": 3,
   "metadata": {},
   "outputs": [],
   "source": [
    "# 원형큐\n",
    "MAX_QSIZE = 10\n",
    "class CircleQueue: # 원형으로 움직이는 큐\n",
    "    \n",
    "    def __init__(self):\n",
    "        self.front=0\n",
    "        self.rear=0\n",
    "        self.items = [None]*MAX_QSIZE\n",
    "    def isEmpty(self):\n",
    "        return self.front == self.rear\n",
    "    def isFull(self):\n",
    "        return self.front == (self.rear+1) % MAX_QSIZE # f\n",
    "    def clear(self):\n",
    "        self.front = self.rear\n",
    "    def enqueue(self,item): # 삽입함수\n",
    "        if not self.isFull():\n",
    "            self.rear = (self.rear+1)%MAX_QSIZE # rear 회전\n",
    "            self.items[self.rear] = item # rear 위치에 삽입\n",
    "    def dequeue(self): # 삭제\n",
    "        if not self.isEmpty(): # front 회전\n",
    "            self.front = (self.front+1) % MAX_QSIZE # front 위치의 항목 반환\n",
    "            return self.items[self.front]\n",
    "    def peek(self): # 삭제하지 않고 반환\n",
    "        if not self.isEmpty():\n",
    "            return self.items[(self.front+1)%MAX_QSIZE] \n",
    "    def size(self):\n",
    "        return (self.rear - self.front + MAX_QSIZE) % MAX_QSIZE\n",
    "    def display(self):\n",
    "        out = []\n",
    "        if self.front<self.rear:\n",
    "            out = self.items[self.front+1:self.rear+1]\n",
    "        else:\n",
    "            out = self.items[self.front+1:MAX_QSIZE] + self.items[0:self.rear+1]\n",
    "        print('f={},r={}'.format(self.front,self.rear),out)"
   ]
  },
  {
   "cell_type": "markdown",
   "metadata": {},
   "source": [
    "C에서의 MAX 큐 사이즈는 5 python에서의 MAX  큐 사이즈는 10으로 설정했다. \n",
    "\n",
    "파이썬 코드로 원형큐에 대해 설명하겠다. 처음 init으로 front와 rear의 값을 초기화 시켜준다. 그리고 items라는 큐 크기가 한정되어 있는 리스트를 만든다.\n",
    "\n",
    "먼저 Empty는 front와 rear의 위치가 같으면 Empty라고 인식한다.(rear = front = 0)\n",
    "\n",
    "full은 하나의 자리를 비워두고 front가 rear보다 하나 앞에 있으면 포화상태라고 정의한다. 왜냐하면 공백상태와 구분이 안되기 때문이다.\n",
    "\n",
    "다음으로 삽입 함수이다. 만약 가득차있지 않으면 rear를 하나 늘리고 그 위치에 item을 삽입하는 것이다. 삭제도 마찬가지 맥락이다. peek함수는 삭제하지 않고 그 값을 반환 하는 것이다. dequeue와 다른 점은 self.front를 재정의하지 않은 것이다."
   ]
  },
  {
   "cell_type": "code",
   "execution_count": 4,
   "metadata": {},
   "outputs": [
    {
     "name": "stdout",
     "output_type": "stream",
     "text": [
      "f=0,r=8 [0, 1, 2, 3, 4, 5, 6, 7]\n",
      "f=5,r=8 [5, 6, 7]\n",
      "f=5,r=4 [5, 6, 7, 8, 9, 10, 11, 12, 13]\n"
     ]
    }
   ],
   "source": [
    "q = CircleQueue()\n",
    "for i in range(8):\n",
    "    q.enqueue(i)\n",
    "q.display()\n",
    "for i in range(5):\n",
    "    q.dequeue()\n",
    "q.display()\n",
    "for i in range(8,14):\n",
    "    q.enqueue(i)\n",
    "q.display()"
   ]
  },
  {
   "cell_type": "markdown",
   "metadata": {},
   "source": [
    "- 모듈로 구현한 큐"
   ]
  },
  {
   "cell_type": "code",
   "execution_count": 5,
   "metadata": {},
   "outputs": [
    {
     "name": "stdout",
     "output_type": "stream",
     "text": [
      "큐의 내용: 1 2 3 4 5 6 7 8 9 \n"
     ]
    }
   ],
   "source": [
    "import queue \n",
    "Q = queue.Queue(maxsize=20)\n",
    "for v in range(1,10):\n",
    "    Q.put(v) # enqueue\n",
    "print(\"큐의 내용:\",end=' ')\n",
    "for _ in range(1,10):\n",
    "    print(Q.get(),end =' ')\n",
    "print()"
   ]
  },
  {
   "cell_type": "markdown",
   "metadata": {},
   "source": [
    "# 덱 큐"
   ]
  },
  {
   "cell_type": "markdown",
   "metadata": {},
   "source": [
    "**덱 큐**는 원형큐에 비해 매우 파워풀하다. 원형큐는 front가 삭제 rear가 삽입으로 정해져 있었다면 그에 비해 덱큐는 front와 rear가 모두 삭제와 삽입이 자유롭다는 것이다. 사실 이는 덱이라고 불리지만 원형큐로 구현하면 **시간복잡도가 O(1)** 이기 때문에 효율적이다. 그래서 덱큐라고 명칭한다.\n",
    "\n",
    "덱큐와 원형큐가 다른 점은 앞서 말했듯이 **front와 rear가 모두 삭제가 가능**하다는 것이다. 이를 구현하기 위해선 원형큐에선 시계방향의 회전만 했다면 덱큐는 반시계방향 회전을 한다. 이로 인해 delete_rear와 add_front가 구현될 수 있다. "
   ]
  },
  {
   "cell_type": "code",
   "execution_count": 7,
   "metadata": {},
   "outputs": [],
   "source": [
    "# 덱큐 -> 원형큐를 상속시켜서 구현\n",
    "class CircularDeque(CircleQueue):\n",
    "    def __init__(self):\n",
    "        super().__init__()\n",
    "    def addRear(self,item):self.enqueue(item)\n",
    "    def deleteFront(self):\n",
    "        return self.dequeue()\n",
    "    def getFront(self):return self.peek()\n",
    "    def addFront(self,item):\n",
    "        if not self.isFull():\n",
    "            self.items[self.front] = item\n",
    "            self.front = self.front-1\n",
    "            if self.front<0 : self.front = MAX_QSIZE-1\n",
    "    def deleteRear(self):\n",
    "        if not self.isEmpty():\n",
    "            item = self.items[self.rear]\n",
    "            self.rear = self.rear-1\n",
    "            if self.rear<0:\n",
    "                self.rear = MAX_QSIZE-1\n",
    "                return item\n",
    "    def getRear(self):\n",
    "        return self.items[self.rear]"
   ]
  },
  {
   "cell_type": "markdown",
   "metadata": {},
   "source": [
    " 이제 덱큐에 대한 자세한 설명을 하겠다. 사실 원형큐와 거의 비슷해서 설명할 것이 크게 없다고 생각하지만 새로운 코드가 있기 때문에 설명하겠다. \n",
    " \n",
    " 새로운 기능인 addFront에 대해 설명하겠다. 만약 꽉 차있지 않으면 큐의 front 자리에 아이템을 집어 넣고 front를 하나 빼준다. 즉 반시계 방향으로 회전하는 것이다. 그리고 front가 0보다 작아지면 안되므로 작아질 때는 MAX_QSIZE에서 하나 빼 준 값을 front로 재정의해준다.\n",
    "\n",
    " deleteRear도 addFront와 같은 맥락이므로 설명 생략하겠다.\n",
    "\n",
    " 마지막으로 getRear인데 rear자리에 있는 것을 반환하는 코드이다."
   ]
  },
  {
   "cell_type": "code",
   "execution_count": 8,
   "metadata": {},
   "outputs": [
    {
     "name": "stdout",
     "output_type": "stream",
     "text": [
      "f=6,r=5 [7, 5, 3, 1, 0, 2, 4, 6, 8]\n",
      "f=8,r=2 [3, 1, 0, 2]\n",
      "f=3,r=2 [13, 12, 11, 10, 9, 3, 1, 0, 2]\n"
     ]
    }
   ],
   "source": [
    "dq = CircularDeque()\n",
    "for i in range(9):\n",
    "    if i%2 == 0:dq.addRear(i)# 짝수는 후단에 삽입\n",
    "    else:dq.addFront(i)\n",
    "dq.display()\n",
    "for i in range(2): dq.deleteFront()\n",
    "for i in range(3): dq.deleteRear()\n",
    "dq.display()\n",
    "for i in range(9,14):dq.addFront(i)\n",
    "dq.display()"
   ]
  },
  {
   "cell_type": "markdown",
   "metadata": {},
   "source": [
    "# 우선순위 큐"
   ]
  },
  {
   "cell_type": "markdown",
   "metadata": {},
   "source": [
    "보통 **우선순위 큐**는 heap정렬 알고리즘을 이용해 구현하지만 heap을 이용하지 않고 우선순위 큐를 구현해보겠다. \n",
    "\n",
    "우선순위 큐란 모든 데이터가 우선순위를 가지고 있고 **들어온 순서와 상관없이 우선순위가 높은 데이터가 먼저 출력**되는 구조이다. 즉 내림차순 정렬이라고 생각하면 된다.\n",
    "\n",
    "우선순위 큐는 어떤 요소가 먼저 삭제되는가에 따라 최대 우선순위 큐와 최소 우선순위 큐로 나누어진다. 보통은 최대 우선순위 큐를 사용한다.(우선순위 높은 데이터가 먼저 삭제되는)\n",
    "\n",
    "우선순위 큐는 다른 큐들과 다른 점이 일렬로 나열되어 있지 않다는 것이다. 우선순위 큐는 한 순간에 가장  우선순위가 높은 항목만 알 수 있으면 된다.\n",
    "\n",
    "이를 heap이 아닌 list를 통해 구현해보겠다."
   ]
  },
  {
   "cell_type": "code",
   "execution_count": 14,
   "metadata": {},
   "outputs": [],
   "source": [
    "# 우선순위 큐 -> 힙트리 이용 X\n",
    "class PriorityQueue:\n",
    "    def __init__(self):\n",
    "        self.items=[]\n",
    "    def isEmpty(self):\n",
    "        return len(self.items) == 0\n",
    "    def size(self): return len(self.items)\n",
    "    def clear(self) : self.items=[]\n",
    "    def enqueue(self,item):\n",
    "        self.items.append(item) # list 맨 뒤에 삽입\n",
    "    def findMaxIndex(self): # 최대 우선순위 항목의 인덱스 반환\n",
    "        if self.isEmpty():return None\n",
    "        else:\n",
    "            highest = 0 # 일단 0을 최대라 하고\n",
    "            for i in range(1,self.size()): # 모든 항목에 대해\n",
    "                if self.items[i]>self.items[highest]:\n",
    "                    highest = i # 최고 우선순위 인덱스 갱신\n",
    "        return highest\n",
    "    def dequeue(self): # 삭제\n",
    "        highest = self.findMaxIndex() # 우선순위가 가장 높은 항목 삭제\n",
    "        if highest is not None:\n",
    "            return self.items.pop(highest)\n",
    "    def peek(self): # 삭제하지 않고 그냥 반환\n",
    "        highest = self.findMaxIndex()\n",
    "        if highest is not None:\n",
    "            return self.items[highest]\n"
   ]
  },
  {
   "cell_type": "code",
   "execution_count": 15,
   "metadata": {},
   "outputs": [
    {
     "name": "stdout",
     "output_type": "stream",
     "text": [
      "PQueue:  [34, 18, 27, 45, 15]\n",
      "Max Priority =  45\n",
      "Max Priority =  34\n",
      "Max Priority =  27\n",
      "Max Priority =  18\n",
      "Max Priority =  15\n"
     ]
    }
   ],
   "source": [
    "q= PriorityQueue()\n",
    "q.enqueue(34)\n",
    "q.enqueue(18)\n",
    "q.enqueue(27)\n",
    "q.enqueue(45)\n",
    "q.enqueue(15)\n",
    "print('PQueue: ',q.items)\n",
    "while not q.isEmpty():\n",
    "    print(\"Max Priority = \",q.dequeue())"
   ]
  },
  {
   "cell_type": "markdown",
   "metadata": {},
   "source": [
    "- 정렬되지 않은 경우 리스트의 삭제연산 시간 복잡도 O(n)\n",
    "- 정렬된 경우 리스트의 삭제연산 시간 복잡도 O(1)\n",
    "- 삽입연산은 정렬 여부와 상관없이 append이기 때문에 O(1)"
   ]
  }
 ],
 "metadata": {
  "kernelspec": {
   "display_name": "Python 3",
   "language": "python",
   "name": "python3"
  },
  "language_info": {
   "codemirror_mode": {
    "name": "ipython",
    "version": 3
   },
   "file_extension": ".py",
   "mimetype": "text/x-python",
   "name": "python",
   "nbconvert_exporter": "python",
   "pygments_lexer": "ipython3",
   "version": "3.7.1"
  }
 },
 "nbformat": 4,
 "nbformat_minor": 4
}
