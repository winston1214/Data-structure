{
 "cells": [
  {
   "cell_type": "code",
   "execution_count": 1,
   "metadata": {},
   "outputs": [],
   "source": [
    "# 선택정렬\n",
    "def selection_sort(A):\n",
    "    n = len(A)\n",
    "    for i in range(n-1):\n",
    "        least = i\n",
    "        for j in range(i+1,n):\n",
    "            if A[j]<A[least]:\n",
    "                least = j\n",
    "        A[i],A[least] = A[least],A[i]\n",
    "        printStep(A,i+1)\n",
    "def printStep(arr,val):\n",
    "    print(\"Step: {}\".format(val),end = ' ')\n",
    "    print(arr)"
   ]
  },
  {
   "cell_type": "code",
   "execution_count": 2,
   "metadata": {},
   "outputs": [
    {
     "name": "stdout",
     "output_type": "stream",
     "text": [
      "Original:  [5, 3, 8, 4, 9, 1, 6, 2, 7]\n",
      "Step: 1 [1, 3, 8, 4, 9, 5, 6, 2, 7]\n",
      "Step: 2 [1, 2, 8, 4, 9, 5, 6, 3, 7]\n",
      "Step: 3 [1, 2, 3, 4, 9, 5, 6, 8, 7]\n",
      "Step: 4 [1, 2, 3, 4, 9, 5, 6, 8, 7]\n",
      "Step: 5 [1, 2, 3, 4, 5, 9, 6, 8, 7]\n",
      "Step: 6 [1, 2, 3, 4, 5, 6, 9, 8, 7]\n",
      "Step: 7 [1, 2, 3, 4, 5, 6, 7, 8, 9]\n",
      "Step: 8 [1, 2, 3, 4, 5, 6, 7, 8, 9]\n",
      "Selection:  [1, 2, 3, 4, 5, 6, 7, 8, 9]\n"
     ]
    }
   ],
   "source": [
    "data = [5,3,8,4,9,1,6,2,7]\n",
    "print('Original: ',data)\n",
    "selection_sort(data)\n",
    "print(\"Selection: \",data)"
   ]
  },
  {
   "cell_type": "code",
   "execution_count": 3,
   "metadata": {},
   "outputs": [],
   "source": [
    "# 삽입정렬\n",
    "def insertion_sort(A):\n",
    "    n = len(A)\n",
    "    for i in range(1,n):\n",
    "        key=A[i]\n",
    "        j=i-1\n",
    "        while j>=0 and A[j]>key:\n",
    "            A[j+1] = A[j]\n",
    "            j-=1\n",
    "        A[j+1] = key\n",
    "        printStep(A,i)"
   ]
  },
  {
   "cell_type": "code",
   "execution_count": 4,
   "metadata": {},
   "outputs": [
    {
     "name": "stdout",
     "output_type": "stream",
     "text": [
      "Original:  [5, 3, 8, 4, 9, 1, 6, 2, 7]\n",
      "Step: 1 [3, 5, 8, 4, 9, 1, 6, 2, 7]\n",
      "Step: 2 [3, 5, 8, 4, 9, 1, 6, 2, 7]\n",
      "Step: 3 [3, 4, 5, 8, 9, 1, 6, 2, 7]\n",
      "Step: 4 [3, 4, 5, 8, 9, 1, 6, 2, 7]\n",
      "Step: 5 [1, 3, 4, 5, 8, 9, 6, 2, 7]\n",
      "Step: 6 [1, 3, 4, 5, 6, 8, 9, 2, 7]\n",
      "Step: 7 [1, 2, 3, 4, 5, 6, 8, 9, 7]\n",
      "Step: 8 [1, 2, 3, 4, 5, 6, 7, 8, 9]\n",
      "Insertion:  [1, 2, 3, 4, 5, 6, 7, 8, 9]\n"
     ]
    }
   ],
   "source": [
    "data = [5,3,8,4,9,1,6,2,7]\n",
    "print('Original: ',data)\n",
    "insertion_sort(data)\n",
    "print(\"Insertion: \",data)"
   ]
  },
  {
   "cell_type": "code",
   "execution_count": 5,
   "metadata": {},
   "outputs": [],
   "source": [
    "def bubble_sort(A):\n",
    "    n=len(A)\n",
    "    for i in range(n-1,0,-1):\n",
    "        bChanged=False\n",
    "        for j in range(i):\n",
    "            if A[j]>A[j+1]:\n",
    "                A[j],A[j+1] = A[j+1],A[j]\n",
    "                bChanged=True\n",
    "        if not bChanged:break\n",
    "        printStep(A,n-i)"
   ]
  },
  {
   "cell_type": "code",
   "execution_count": 6,
   "metadata": {},
   "outputs": [
    {
     "name": "stdout",
     "output_type": "stream",
     "text": [
      "Original:  [5, 3, 8, 4, 9, 1, 6, 2, 7]\n",
      "Step: 1 [3, 5, 4, 8, 1, 6, 2, 7, 9]\n",
      "Step: 2 [3, 4, 5, 1, 6, 2, 7, 8, 9]\n",
      "Step: 3 [3, 4, 1, 5, 2, 6, 7, 8, 9]\n",
      "Step: 4 [3, 1, 4, 2, 5, 6, 7, 8, 9]\n",
      "Step: 5 [1, 3, 2, 4, 5, 6, 7, 8, 9]\n",
      "Step: 6 [1, 2, 3, 4, 5, 6, 7, 8, 9]\n",
      "Bubble:  [1, 2, 3, 4, 5, 6, 7, 8, 9]\n"
     ]
    }
   ],
   "source": [
    "data = [5,3,8,4,9,1,6,2,7]\n",
    "print('Original: ',data)\n",
    "bubble_sort(data)\n",
    "print(\"Bubble: \",data)"
   ]
  },
  {
   "cell_type": "code",
   "execution_count": 7,
   "metadata": {},
   "outputs": [],
   "source": [
    "# 정렬이 되어있는 집합의 구현\n",
    "class Set:\n",
    "    def __init__(self):\n",
    "        self.items = []\n",
    "    def size(self):\n",
    "        return len(self,msg)\n",
    "    def display(self):\n",
    "        print(msg,self.items)\n",
    "    def contains(self,item):\n",
    "        return item in self.items\n",
    "    def insert(self,elem):\n",
    "        if elem in self.items: return\n",
    "        for idx in range(len(self.items)):\n",
    "            if elem<self.items[idx]:\n",
    "                self.items.insert(idx,elem)\n",
    "                return\n",
    "        self.items.append(elem)\n",
    "        return self.items\n",
    "    def delete(self,elem):\n",
    "        if elem in self.items:\n",
    "            self.items.remove(elem)\n",
    "    def __eq__(self,setB): # 같은 집합인지 검사\n",
    "        if self.size() != setB.size():\n",
    "            return False\n",
    "        for idx in range(len(self.items)):\n",
    "            if self.items[idx] != setB.items[idx]:\n",
    "                return False\n",
    "        return True\n",
    "    def union(self,setB):\n",
    "        newSet= Set() # 새로운 집합(합집합) 생성\n",
    "        a=b=0 # 0으로 인덱스 초기화\n",
    "        while a<len(self.items) and b<len(setB.items):\n",
    "            valueA = self.items[a] # 현재 인덱스의 원소값\n",
    "            valueB = self.items[b]\n",
    "            if valueA < valueB:\n",
    "                newSet.items.append(valueA) # self의 원소가 더 작을 때 A 원소 합집합에 추가\n",
    "                a+=1\n",
    "            elif valueA>valueB:\n",
    "                newSet.items.append(valueB) # B의 원소가 더 작을 때 B원소 합집합에 추가\n",
    "                b+=1\n",
    "            else: # 중복되는 원소가 있으면\n",
    "                newSet.items.append(valueA) # 하나만 추가\n",
    "                a+=1\n",
    "                b+=1\n",
    "        while a<len(self.items):\n",
    "            newSet.items.append(self.items[a]) # self에 있는 남은 원소 모두 추가\n",
    "            a+=1\n",
    "        while b<len(self.items):\n",
    "            newSet.items.append(self.items[b])\n",
    "            b+=1\n",
    "        return newSet # 합집합 반환\n",
    "    # 교집합\n",
    "    def intersect(self,setB):\n",
    "        newSet = Set()\n",
    "        a=b=0\n",
    "        while a<len(self.items) and b<len(setB.items):\n",
    "            valueA = self.items[a]\n",
    "            valueB = self.items[b]\n",
    "            if valueA > valueB:\n",
    "                continue\n",
    "            elif valueA<valueB:\n",
    "                continue\n",
    "            else:\n",
    "                newSet.items.append(valueA)\n",
    "                a+=1\n",
    "                b+=1\n",
    "        return newSet\n",
    "    # 교집합"
   ]
  },
  {
   "cell_type": "code",
   "execution_count": 8,
   "metadata": {},
   "outputs": [],
   "source": [
    "# 순차 탐색\n",
    "def sequential_search(A,key,low,high):\n",
    "    for i in range(low,high+1):\n",
    "        if A[i] == key:\n",
    "            return i\n",
    "    return None"
   ]
  },
  {
   "cell_type": "code",
   "execution_count": 9,
   "metadata": {},
   "outputs": [
    {
     "data": {
      "text/plain": [
       "1"
      ]
     },
     "execution_count": 9,
     "metadata": {},
     "output_type": "execute_result"
    }
   ],
   "source": [
    "ls = [9,5,8,3,7]\n",
    "sequential_search(ls,5,0,4)"
   ]
  },
  {
   "cell_type": "code",
   "execution_count": 10,
   "metadata": {},
   "outputs": [],
   "source": [
    "# 이진탐색(순환)\n",
    "def binary_search(A,key,low,high):\n",
    "    if low <= high:\n",
    "        middle = (low+high) // 2\n",
    "        if key == A[middle]:\n",
    "            return middle\n",
    "        elif key<A[middle]:\n",
    "            return binary_search(A,key,low,middle-1)\n",
    "        else:\n",
    "            return binary_search(A,key,middle+1,high)\n",
    "    return None"
   ]
  },
  {
   "cell_type": "code",
   "execution_count": 11,
   "metadata": {},
   "outputs": [],
   "source": [
    "# 이진탐색(반복)\n",
    "def binary_search_iter(A,key,low,high):\n",
    "    while low<=high:\n",
    "        middle = (low+high) // 2\n",
    "        if key == A[middle]:\n",
    "            return middle\n",
    "        elif key>A[middle]:\n",
    "            low = middle+1\n",
    "        else:\n",
    "            high=middle-1\n",
    "    return None"
   ]
  },
  {
   "cell_type": "code",
   "execution_count": 12,
   "metadata": {},
   "outputs": [],
   "source": [
    "# 보간 탐색\n",
    "def interploation_search(A,key,low,high):\n",
    "    while low<=high:\n",
    "        middle = int(low+(high-low)*(key-A[low])/(A[high]-A[low]))\n",
    "        if key == A[middle]:\n",
    "            return middle\n",
    "        elif key>A[middle]:\n",
    "            low = middle+1\n",
    "        else:\n",
    "            high=middle-1\n",
    "    return None"
   ]
  },
  {
   "cell_type": "code",
   "execution_count": 13,
   "metadata": {},
   "outputs": [],
   "source": [
    "# 맵의 응용 - 수정 필요\n",
    "class Entry:\n",
    "    def __init__(self,key,value):\n",
    "        self.key = key\n",
    "        self.value = value\n",
    "    def __str__(self):\n",
    "        return str('{}:{}'.format(self.key,self.value))\n",
    "class SequentialMap:\n",
    "    def __init__(self):\n",
    "        self.table=[]\n",
    "    def size(self):return len(self.table)\n",
    "    def display(self,msg):\n",
    "        print(msg)\n",
    "        for entry in self.table:\n",
    "            print(\" \",entry)\n",
    "    def insert(self,key,value):\n",
    "        self.table.append(Entry(key,value))\n",
    "    def search(self,key):\n",
    "        pos = sequential_search(self.table,key,0,self.size()-1)\n",
    "        if pos is not None: return self.table[pos]\n",
    "        else: return None\n",
    "    def delete(self,key):\n",
    "        for i in range(self.size()):\n",
    "            if self.table[i] == key:\n",
    "                self.table.pop(i)\n",
    "                return\n",
    "    def display()"
   ]
  },
  {
   "cell_type": "code",
   "execution_count": 14,
   "metadata": {},
   "outputs": [],
   "source": [
    "mapping = SequentialMap()\n",
    "mapping.insert('data','자료')\n",
    "mapping.insert('sturcture','구조')\n",
    "mapping.insert('sequntial search','선형 탐색')\n",
    "mapping.insert('binary search','이진탐색')\n",
    "\n"
   ]
  },
  {
   "cell_type": "code",
   "execution_count": null,
   "metadata": {},
   "outputs": [],
   "source": []
  }
 ],
 "metadata": {
  "kernelspec": {
   "display_name": "Python 3",
   "language": "python",
   "name": "python3"
  },
  "language_info": {
   "codemirror_mode": {
    "name": "ipython",
    "version": 3
   },
   "file_extension": ".py",
   "mimetype": "text/x-python",
   "name": "python",
   "nbconvert_exporter": "python",
   "pygments_lexer": "ipython3",
   "version": "3.7.1"
  }
 },
 "nbformat": 4,
 "nbformat_minor": 4
}
